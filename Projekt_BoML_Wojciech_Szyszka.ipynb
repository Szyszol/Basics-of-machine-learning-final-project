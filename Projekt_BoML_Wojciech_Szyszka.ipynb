{
  "nbformat": 4,
  "nbformat_minor": 0,
  "metadata": {
    "colab": {
      "provenance": [],
      "toc_visible": true
    },
    "kernelspec": {
      "name": "python3",
      "display_name": "Python 3"
    },
    "language_info": {
      "name": "python"
    },
    "widgets": {
      "application/vnd.jupyter.widget-state+json": {
        "8c07a706db5f4cb99ddd0400b065c194": {
          "model_module": "@jupyter-widgets/controls",
          "model_name": "HBoxModel",
          "model_module_version": "1.5.0",
          "state": {
            "_dom_classes": [],
            "_model_module": "@jupyter-widgets/controls",
            "_model_module_version": "1.5.0",
            "_model_name": "HBoxModel",
            "_view_count": null,
            "_view_module": "@jupyter-widgets/controls",
            "_view_module_version": "1.5.0",
            "_view_name": "HBoxView",
            "box_style": "",
            "children": [
              "IPY_MODEL_890b9d2b118d49acb5c8c0b8d089e052",
              "IPY_MODEL_76c8725cc94e489c88f7394d7199d937",
              "IPY_MODEL_449d7bf0ff6f427ba06fba59c4dc16e8"
            ],
            "layout": "IPY_MODEL_a2d51f96e2964dec8f0c1e90c8c02a6b"
          }
        },
        "890b9d2b118d49acb5c8c0b8d089e052": {
          "model_module": "@jupyter-widgets/controls",
          "model_name": "HTMLModel",
          "model_module_version": "1.5.0",
          "state": {
            "_dom_classes": [],
            "_model_module": "@jupyter-widgets/controls",
            "_model_module_version": "1.5.0",
            "_model_name": "HTMLModel",
            "_view_count": null,
            "_view_module": "@jupyter-widgets/controls",
            "_view_module_version": "1.5.0",
            "_view_name": "HTMLView",
            "description": "",
            "description_tooltip": null,
            "layout": "IPY_MODEL_c1d18e906c244ed58478d2b93a2c600a",
            "placeholder": "​",
            "style": "IPY_MODEL_1d40e59f8a5b45cd973d8f4247c6ca9e",
            "value": " 92%"
          }
        },
        "76c8725cc94e489c88f7394d7199d937": {
          "model_module": "@jupyter-widgets/controls",
          "model_name": "FloatProgressModel",
          "model_module_version": "1.5.0",
          "state": {
            "_dom_classes": [],
            "_model_module": "@jupyter-widgets/controls",
            "_model_module_version": "1.5.0",
            "_model_name": "FloatProgressModel",
            "_view_count": null,
            "_view_module": "@jupyter-widgets/controls",
            "_view_module_version": "1.5.0",
            "_view_name": "ProgressView",
            "bar_style": "danger",
            "description": "",
            "description_tooltip": null,
            "layout": "IPY_MODEL_203317cc05eb454584b98ce9cea99919",
            "max": 12,
            "min": 0,
            "orientation": "horizontal",
            "style": "IPY_MODEL_28e3536d5987433c86768d0805c50280",
            "value": 11
          }
        },
        "449d7bf0ff6f427ba06fba59c4dc16e8": {
          "model_module": "@jupyter-widgets/controls",
          "model_name": "HTMLModel",
          "model_module_version": "1.5.0",
          "state": {
            "_dom_classes": [],
            "_model_module": "@jupyter-widgets/controls",
            "_model_module_version": "1.5.0",
            "_model_name": "HTMLModel",
            "_view_count": null,
            "_view_module": "@jupyter-widgets/controls",
            "_view_module_version": "1.5.0",
            "_view_name": "HTMLView",
            "description": "",
            "description_tooltip": null,
            "layout": "IPY_MODEL_fcf7a12b66d34c2eaf416e3fadc02e76",
            "placeholder": "​",
            "style": "IPY_MODEL_6b06b177789b410db48cea6ef26bc8df",
            "value": " 11/12 [01:18&lt;00:06,  6.87s/epoch, loss=0.288, precision_m=0.983, f1_m=0.986, val_loss=2.6, val_precision_m=0.856, val_f1_m=0.874]"
          }
        },
        "a2d51f96e2964dec8f0c1e90c8c02a6b": {
          "model_module": "@jupyter-widgets/base",
          "model_name": "LayoutModel",
          "model_module_version": "1.2.0",
          "state": {
            "_model_module": "@jupyter-widgets/base",
            "_model_module_version": "1.2.0",
            "_model_name": "LayoutModel",
            "_view_count": null,
            "_view_module": "@jupyter-widgets/base",
            "_view_module_version": "1.2.0",
            "_view_name": "LayoutView",
            "align_content": null,
            "align_items": null,
            "align_self": null,
            "border": null,
            "bottom": null,
            "display": null,
            "flex": null,
            "flex_flow": null,
            "grid_area": null,
            "grid_auto_columns": null,
            "grid_auto_flow": null,
            "grid_auto_rows": null,
            "grid_column": null,
            "grid_gap": null,
            "grid_row": null,
            "grid_template_areas": null,
            "grid_template_columns": null,
            "grid_template_rows": null,
            "height": null,
            "justify_content": null,
            "justify_items": null,
            "left": null,
            "margin": null,
            "max_height": null,
            "max_width": null,
            "min_height": null,
            "min_width": null,
            "object_fit": null,
            "object_position": null,
            "order": null,
            "overflow": null,
            "overflow_x": null,
            "overflow_y": null,
            "padding": null,
            "right": null,
            "top": null,
            "visibility": null,
            "width": null
          }
        },
        "c1d18e906c244ed58478d2b93a2c600a": {
          "model_module": "@jupyter-widgets/base",
          "model_name": "LayoutModel",
          "model_module_version": "1.2.0",
          "state": {
            "_model_module": "@jupyter-widgets/base",
            "_model_module_version": "1.2.0",
            "_model_name": "LayoutModel",
            "_view_count": null,
            "_view_module": "@jupyter-widgets/base",
            "_view_module_version": "1.2.0",
            "_view_name": "LayoutView",
            "align_content": null,
            "align_items": null,
            "align_self": null,
            "border": null,
            "bottom": null,
            "display": null,
            "flex": null,
            "flex_flow": null,
            "grid_area": null,
            "grid_auto_columns": null,
            "grid_auto_flow": null,
            "grid_auto_rows": null,
            "grid_column": null,
            "grid_gap": null,
            "grid_row": null,
            "grid_template_areas": null,
            "grid_template_columns": null,
            "grid_template_rows": null,
            "height": null,
            "justify_content": null,
            "justify_items": null,
            "left": null,
            "margin": null,
            "max_height": null,
            "max_width": null,
            "min_height": null,
            "min_width": null,
            "object_fit": null,
            "object_position": null,
            "order": null,
            "overflow": null,
            "overflow_x": null,
            "overflow_y": null,
            "padding": null,
            "right": null,
            "top": null,
            "visibility": null,
            "width": null
          }
        },
        "1d40e59f8a5b45cd973d8f4247c6ca9e": {
          "model_module": "@jupyter-widgets/controls",
          "model_name": "DescriptionStyleModel",
          "model_module_version": "1.5.0",
          "state": {
            "_model_module": "@jupyter-widgets/controls",
            "_model_module_version": "1.5.0",
            "_model_name": "DescriptionStyleModel",
            "_view_count": null,
            "_view_module": "@jupyter-widgets/base",
            "_view_module_version": "1.2.0",
            "_view_name": "StyleView",
            "description_width": ""
          }
        },
        "203317cc05eb454584b98ce9cea99919": {
          "model_module": "@jupyter-widgets/base",
          "model_name": "LayoutModel",
          "model_module_version": "1.2.0",
          "state": {
            "_model_module": "@jupyter-widgets/base",
            "_model_module_version": "1.2.0",
            "_model_name": "LayoutModel",
            "_view_count": null,
            "_view_module": "@jupyter-widgets/base",
            "_view_module_version": "1.2.0",
            "_view_name": "LayoutView",
            "align_content": null,
            "align_items": null,
            "align_self": null,
            "border": null,
            "bottom": null,
            "display": null,
            "flex": null,
            "flex_flow": null,
            "grid_area": null,
            "grid_auto_columns": null,
            "grid_auto_flow": null,
            "grid_auto_rows": null,
            "grid_column": null,
            "grid_gap": null,
            "grid_row": null,
            "grid_template_areas": null,
            "grid_template_columns": null,
            "grid_template_rows": null,
            "height": null,
            "justify_content": null,
            "justify_items": null,
            "left": null,
            "margin": null,
            "max_height": null,
            "max_width": null,
            "min_height": null,
            "min_width": null,
            "object_fit": null,
            "object_position": null,
            "order": null,
            "overflow": null,
            "overflow_x": null,
            "overflow_y": null,
            "padding": null,
            "right": null,
            "top": null,
            "visibility": null,
            "width": null
          }
        },
        "28e3536d5987433c86768d0805c50280": {
          "model_module": "@jupyter-widgets/controls",
          "model_name": "ProgressStyleModel",
          "model_module_version": "1.5.0",
          "state": {
            "_model_module": "@jupyter-widgets/controls",
            "_model_module_version": "1.5.0",
            "_model_name": "ProgressStyleModel",
            "_view_count": null,
            "_view_module": "@jupyter-widgets/base",
            "_view_module_version": "1.2.0",
            "_view_name": "StyleView",
            "bar_color": null,
            "description_width": ""
          }
        },
        "fcf7a12b66d34c2eaf416e3fadc02e76": {
          "model_module": "@jupyter-widgets/base",
          "model_name": "LayoutModel",
          "model_module_version": "1.2.0",
          "state": {
            "_model_module": "@jupyter-widgets/base",
            "_model_module_version": "1.2.0",
            "_model_name": "LayoutModel",
            "_view_count": null,
            "_view_module": "@jupyter-widgets/base",
            "_view_module_version": "1.2.0",
            "_view_name": "LayoutView",
            "align_content": null,
            "align_items": null,
            "align_self": null,
            "border": null,
            "bottom": null,
            "display": null,
            "flex": null,
            "flex_flow": null,
            "grid_area": null,
            "grid_auto_columns": null,
            "grid_auto_flow": null,
            "grid_auto_rows": null,
            "grid_column": null,
            "grid_gap": null,
            "grid_row": null,
            "grid_template_areas": null,
            "grid_template_columns": null,
            "grid_template_rows": null,
            "height": null,
            "justify_content": null,
            "justify_items": null,
            "left": null,
            "margin": null,
            "max_height": null,
            "max_width": null,
            "min_height": null,
            "min_width": null,
            "object_fit": null,
            "object_position": null,
            "order": null,
            "overflow": null,
            "overflow_x": null,
            "overflow_y": null,
            "padding": null,
            "right": null,
            "top": null,
            "visibility": null,
            "width": null
          }
        },
        "6b06b177789b410db48cea6ef26bc8df": {
          "model_module": "@jupyter-widgets/controls",
          "model_name": "DescriptionStyleModel",
          "model_module_version": "1.5.0",
          "state": {
            "_model_module": "@jupyter-widgets/controls",
            "_model_module_version": "1.5.0",
            "_model_name": "DescriptionStyleModel",
            "_view_count": null,
            "_view_module": "@jupyter-widgets/base",
            "_view_module_version": "1.2.0",
            "_view_name": "StyleView",
            "description_width": ""
          }
        }
      }
    }
  },
  "cells": [
    {
      "cell_type": "markdown",
      "source": [
        "#Fake News Filter\n",
        "\n",
        "My maingoal in this project is to construct an algorithm which is working like a sieve for our browser to get rid of some fake news. Due to this problem I downloaded a database made of 5 features where one of them is a label deciding wheter news is real or not. I decided to choose 2 of 4 features - title of the news and source domain. They seem to be the most important. \n"
      ],
      "metadata": {
        "id": "bBtkGSL-9X0N"
      }
    },
    {
      "cell_type": "code",
      "execution_count": 1,
      "metadata": {
        "id": "W_6VliLyeQ0t"
      },
      "outputs": [],
      "source": [
        "import pandas as pd\n",
        "import numpy as np\n",
        "import tensorflow as tf\n",
        "import matplotlib.pyplot as plt\n",
        "from sklearn.model_selection import train_test_split\n",
        "from tqdm.keras import TqdmCallback\n",
        "import warnings \n",
        "warnings.simplefilter('ignore')\n",
        "import gc\n",
        "from sklearn.metrics import classification_report, accuracy_score"
      ]
    },
    {
      "cell_type": "markdown",
      "source": [
        "#Uploading the data\n",
        "First I need to upload our data using read_csv from pandas lib, I decided to use only title and source domain columns, they seemed to be the most important and due to some problems connected with adding tweet number to my model I decided to not use it.  "
      ],
      "metadata": {
        "id": "SkfzRPhv8lr-"
      }
    },
    {
      "cell_type": "code",
      "source": [
        "wanted_cols = ['title','source_domain','tweet_num','real']\n",
        "df = pd.read_csv('data/FakeNewsNet.csv',usecols=wanted_cols)\n",
        "df.tail()"
      ],
      "metadata": {
        "colab": {
          "base_uri": "https://localhost:8080/",
          "height": 206
        },
        "id": "N-RNhyhvfOHb",
        "outputId": "a27cf9d4-c578-40d0-9f8e-4b78045a9e4b"
      },
      "execution_count": 2,
      "outputs": [
        {
          "output_type": "execute_result",
          "data": {
            "text/plain": [
              "                                                   title  \\\n",
              "23191  Pippa Middleton wedding: In case you missed it...   \n",
              "23192  Zayn Malik & Gigi Hadid’s Shocking Split: Why ...   \n",
              "23193  Jessica Chastain Recalls the Moment Her Mother...   \n",
              "23194  Tristan Thompson Feels \"Dumped\" After Khloé Ka...   \n",
              "23195  Kelly Clarkson Performs a Medley of Kendrick L...   \n",
              "\n",
              "               source_domain  tweet_num  real  \n",
              "23191      www.express.co.uk         52     1  \n",
              "23192      hollywoodlife.com          7     0  \n",
              "23193      www.justjared.com         26     1  \n",
              "23194  www.intouchweekly.com         24     0  \n",
              "23195      www.billboard.com         85     1  "
            ],
            "text/html": [
              "\n",
              "  <div id=\"df-4c584bd2-ebb6-4932-9164-1c6ad09a548d\">\n",
              "    <div class=\"colab-df-container\">\n",
              "      <div>\n",
              "<style scoped>\n",
              "    .dataframe tbody tr th:only-of-type {\n",
              "        vertical-align: middle;\n",
              "    }\n",
              "\n",
              "    .dataframe tbody tr th {\n",
              "        vertical-align: top;\n",
              "    }\n",
              "\n",
              "    .dataframe thead th {\n",
              "        text-align: right;\n",
              "    }\n",
              "</style>\n",
              "<table border=\"1\" class=\"dataframe\">\n",
              "  <thead>\n",
              "    <tr style=\"text-align: right;\">\n",
              "      <th></th>\n",
              "      <th>title</th>\n",
              "      <th>source_domain</th>\n",
              "      <th>tweet_num</th>\n",
              "      <th>real</th>\n",
              "    </tr>\n",
              "  </thead>\n",
              "  <tbody>\n",
              "    <tr>\n",
              "      <th>23191</th>\n",
              "      <td>Pippa Middleton wedding: In case you missed it...</td>\n",
              "      <td>www.express.co.uk</td>\n",
              "      <td>52</td>\n",
              "      <td>1</td>\n",
              "    </tr>\n",
              "    <tr>\n",
              "      <th>23192</th>\n",
              "      <td>Zayn Malik &amp; Gigi Hadid’s Shocking Split: Why ...</td>\n",
              "      <td>hollywoodlife.com</td>\n",
              "      <td>7</td>\n",
              "      <td>0</td>\n",
              "    </tr>\n",
              "    <tr>\n",
              "      <th>23193</th>\n",
              "      <td>Jessica Chastain Recalls the Moment Her Mother...</td>\n",
              "      <td>www.justjared.com</td>\n",
              "      <td>26</td>\n",
              "      <td>1</td>\n",
              "    </tr>\n",
              "    <tr>\n",
              "      <th>23194</th>\n",
              "      <td>Tristan Thompson Feels \"Dumped\" After Khloé Ka...</td>\n",
              "      <td>www.intouchweekly.com</td>\n",
              "      <td>24</td>\n",
              "      <td>0</td>\n",
              "    </tr>\n",
              "    <tr>\n",
              "      <th>23195</th>\n",
              "      <td>Kelly Clarkson Performs a Medley of Kendrick L...</td>\n",
              "      <td>www.billboard.com</td>\n",
              "      <td>85</td>\n",
              "      <td>1</td>\n",
              "    </tr>\n",
              "  </tbody>\n",
              "</table>\n",
              "</div>\n",
              "      <button class=\"colab-df-convert\" onclick=\"convertToInteractive('df-4c584bd2-ebb6-4932-9164-1c6ad09a548d')\"\n",
              "              title=\"Convert this dataframe to an interactive table.\"\n",
              "              style=\"display:none;\">\n",
              "        \n",
              "  <svg xmlns=\"http://www.w3.org/2000/svg\" height=\"24px\"viewBox=\"0 0 24 24\"\n",
              "       width=\"24px\">\n",
              "    <path d=\"M0 0h24v24H0V0z\" fill=\"none\"/>\n",
              "    <path d=\"M18.56 5.44l.94 2.06.94-2.06 2.06-.94-2.06-.94-.94-2.06-.94 2.06-2.06.94zm-11 1L8.5 8.5l.94-2.06 2.06-.94-2.06-.94L8.5 2.5l-.94 2.06-2.06.94zm10 10l.94 2.06.94-2.06 2.06-.94-2.06-.94-.94-2.06-.94 2.06-2.06.94z\"/><path d=\"M17.41 7.96l-1.37-1.37c-.4-.4-.92-.59-1.43-.59-.52 0-1.04.2-1.43.59L10.3 9.45l-7.72 7.72c-.78.78-.78 2.05 0 2.83L4 21.41c.39.39.9.59 1.41.59.51 0 1.02-.2 1.41-.59l7.78-7.78 2.81-2.81c.8-.78.8-2.07 0-2.86zM5.41 20L4 18.59l7.72-7.72 1.47 1.35L5.41 20z\"/>\n",
              "  </svg>\n",
              "      </button>\n",
              "      \n",
              "  <style>\n",
              "    .colab-df-container {\n",
              "      display:flex;\n",
              "      flex-wrap:wrap;\n",
              "      gap: 12px;\n",
              "    }\n",
              "\n",
              "    .colab-df-convert {\n",
              "      background-color: #E8F0FE;\n",
              "      border: none;\n",
              "      border-radius: 50%;\n",
              "      cursor: pointer;\n",
              "      display: none;\n",
              "      fill: #1967D2;\n",
              "      height: 32px;\n",
              "      padding: 0 0 0 0;\n",
              "      width: 32px;\n",
              "    }\n",
              "\n",
              "    .colab-df-convert:hover {\n",
              "      background-color: #E2EBFA;\n",
              "      box-shadow: 0px 1px 2px rgba(60, 64, 67, 0.3), 0px 1px 3px 1px rgba(60, 64, 67, 0.15);\n",
              "      fill: #174EA6;\n",
              "    }\n",
              "\n",
              "    [theme=dark] .colab-df-convert {\n",
              "      background-color: #3B4455;\n",
              "      fill: #D2E3FC;\n",
              "    }\n",
              "\n",
              "    [theme=dark] .colab-df-convert:hover {\n",
              "      background-color: #434B5C;\n",
              "      box-shadow: 0px 1px 3px 1px rgba(0, 0, 0, 0.15);\n",
              "      filter: drop-shadow(0px 1px 2px rgba(0, 0, 0, 0.3));\n",
              "      fill: #FFFFFF;\n",
              "    }\n",
              "  </style>\n",
              "\n",
              "      <script>\n",
              "        const buttonEl =\n",
              "          document.querySelector('#df-4c584bd2-ebb6-4932-9164-1c6ad09a548d button.colab-df-convert');\n",
              "        buttonEl.style.display =\n",
              "          google.colab.kernel.accessAllowed ? 'block' : 'none';\n",
              "\n",
              "        async function convertToInteractive(key) {\n",
              "          const element = document.querySelector('#df-4c584bd2-ebb6-4932-9164-1c6ad09a548d');\n",
              "          const dataTable =\n",
              "            await google.colab.kernel.invokeFunction('convertToInteractive',\n",
              "                                                     [key], {});\n",
              "          if (!dataTable) return;\n",
              "\n",
              "          const docLinkHtml = 'Like what you see? Visit the ' +\n",
              "            '<a target=\"_blank\" href=https://colab.research.google.com/notebooks/data_table.ipynb>data table notebook</a>'\n",
              "            + ' to learn more about interactive tables.';\n",
              "          element.innerHTML = '';\n",
              "          dataTable['output_type'] = 'display_data';\n",
              "          await google.colab.output.renderOutput(dataTable, element);\n",
              "          const docLink = document.createElement('div');\n",
              "          docLink.innerHTML = docLinkHtml;\n",
              "          element.appendChild(docLink);\n",
              "        }\n",
              "      </script>\n",
              "    </div>\n",
              "  </div>\n",
              "  "
            ]
          },
          "metadata": {},
          "execution_count": 2
        }
      ]
    },
    {
      "cell_type": "markdown",
      "source": [
        "#Dealing with missing values\n",
        "Here I just use simple function to delete missing value with dropna function\n"
      ],
      "metadata": {
        "id": "4A9gUaAc_jL-"
      }
    },
    {
      "cell_type": "code",
      "source": [
        "#usuwa brakujące wartości \n",
        "df.dropna(inplace=True)\n",
        "df.reset_index(drop=True, inplace=True)"
      ],
      "metadata": {
        "id": "y7qzrFqAfORx"
      },
      "execution_count": 3,
      "outputs": []
    },
    {
      "cell_type": "markdown",
      "source": [
        "#Defining our training and testing data\n"
      ],
      "metadata": {
        "id": "H2PUUDUTCq7I"
      }
    },
    {
      "cell_type": "code",
      "source": [
        "#Tytułu \"zconcateowane\" z source domainem axis=1 to wtedy dodaje do wierszy/axis=0 dodaje do kolumn - przy tym accuracy 77/78%\n",
        "x = df[['title','source_domain']].agg(' '.join, axis=1)\n",
        "#Same tytułu przy tym 73%/74% accuracy\n",
        "#x = df['title'].values \n",
        "y = df['real'].values \n",
        "x_train, x_test, y_train, y_test = train_test_split(x, y, test_size=0.20, random_state= np.random.randint(10))\n",
        "print(f\"Training records: {x_train.shape[0]} | Testing records: {x_test.shape[0]}\")"
      ],
      "metadata": {
        "colab": {
          "base_uri": "https://localhost:8080/"
        },
        "id": "L3rp1PPPHftX",
        "outputId": "295aa7d1-2b9d-43e0-851f-55da381d8a2d"
      },
      "execution_count": 4,
      "outputs": [
        {
          "output_type": "stream",
          "name": "stdout",
          "text": [
            "Training records: 18292 | Testing records: 4574\n"
          ]
        }
      ]
    },
    {
      "cell_type": "markdown",
      "source": [
        "#Tokenization of our data\n",
        "In this section I am using tensorflow tokenizer function. I decided to leave all of the characteristic signs like ? , ! etc... Because they are for sure important, just like the size of the letter so as to i set lower to False. Then it is just changing our text into numbers.\n"
      ],
      "metadata": {
        "id": "reZkqcHaDauI"
      }
    },
    {
      "cell_type": "code",
      "source": [
        "#W filters lepiej wywalić znaki szczególne (bo takie są istotne przy fake newsach, tak samo jak małe i duże litery)\n",
        "tok = tf.keras.preprocessing.text.Tokenizer(num_words=None,\n",
        "                                      filters='',\n",
        "                                      lower=False,\n",
        "                                      split=' ',\n",
        "                                      char_level=False,\n",
        "                                      oov_token=None)\n",
        "tok.fit_on_texts(x_train)\n",
        "#text tokenisation\n",
        "tok_train = tok.texts_to_sequences(x_train)\n",
        "tok_test = tok.texts_to_sequences(x_test)"
      ],
      "metadata": {
        "id": "RBmEVBrRHt-K"
      },
      "execution_count": 5,
      "outputs": []
    },
    {
      "cell_type": "markdown",
      "source": [
        "#Padding\n",
        "Here I am using pad_sequences function to add padding to our data."
      ],
      "metadata": {
        "id": "xtyBTe_7EMzW"
      }
    },
    {
      "cell_type": "code",
      "source": [
        "# padding the sequence\n",
        "# tweet_count75 = int(df.tweet_num.quantile(0.75))   # taking the 75th percentile of tweets number <--BEZ SENSU\n",
        "# padded_train = tf.keras.preprocessing.sequence.pad_sequences(tok_train, maxlen=tweet_count75, padding='post')\n",
        "# padded_test = tf.keras.preprocessing.sequence.pad_sequences(tok_test, maxlen=tweet_count75, padding='post')\n",
        "\n",
        "df['wcount'] = df['title'].apply(lambda x: len(x.split(' ')))\n",
        "max_length = int(df.wcount.quantile(0.8))   # taking the 80th percentile of word count\n",
        "padded_train = tf.keras.preprocessing.sequence.pad_sequences(tok_train, maxlen=max_length, padding='post')\n",
        "padded_test = tf.keras.preprocessing.sequence.pad_sequences(tok_test, maxlen=max_length, padding='post')\n",
        "\n",
        "# c = padded_train.shape[0]\n",
        "# padded_train = pd.concat([pd.DataFrame(padded_train), pd.DataFrame(df['tweet_num'],dtype = int)[:c]],axis=1,ignore_index=True)\n",
        "# padded_test = pd.concat([pd.DataFrame(padded_test), pd.DataFrame(df['tweet_num'],dtype = int)[c:].reset_index()],axis=1,ignore_index=True)\n",
        "\n",
        "\n"
      ],
      "metadata": {
        "id": "BAJd0NumHuAZ"
      },
      "execution_count": 6,
      "outputs": []
    },
    {
      "cell_type": "markdown",
      "source": [
        "#Metrics functions\n",
        "I am defining a functions of metrics precision(is the fraction of retrieved documents that are relevant to the query) and f1(harmonic mean) metrics. I've decided to use those metrics because they seem to be the best for this type of problem."
      ],
      "metadata": {
        "id": "YeOd1Y7tEn-u"
      }
    },
    {
      "cell_type": "code",
      "source": [
        "def recall_m(y_true, y_pred):\n",
        "    true_positives = tf.keras.backend.sum(tf.keras.backend.round(tf.keras.backend.clip(y_true * y_pred, 0, 1)))\n",
        "    possible_positives = tf.keras.backend.sum(tf.keras.backend.round(tf.keras.backend.clip(y_true, 0, 1)))\n",
        "    recall = true_positives / (possible_positives + tf.keras.backend.epsilon())\n",
        "    return recall\n",
        "def precision_m(y_true, y_pred):\n",
        "    true_positives = tf.keras.backend.sum(tf.keras.backend.round(tf.keras.backend.clip(y_true * y_pred, 0, 1)))\n",
        "    predicted_positives = tf.keras.backend.sum(tf.keras.backend.round(tf.keras.backend.clip(y_pred, 0, 1)))\n",
        "    precision = true_positives / (predicted_positives + tf.keras.backend.epsilon())\n",
        "    return precision\n",
        "def f1_m(y_true, y_pred):\n",
        "    precision = precision_m(y_true, y_pred)\n",
        "    recall = recall_m(y_true, y_pred)\n",
        "    return 2*((precision*recall)/(precision+recall+tf.keras.backend.epsilon()))"
      ],
      "metadata": {
        "id": "7__b1qRGLJQE"
      },
      "execution_count": 7,
      "outputs": []
    },
    {
      "cell_type": "markdown",
      "source": [
        "#Defining a model\n",
        " In this section I am defining my model. It is built of embedding and bidirectional layers and typical dense layers, after taht I am compiling my model defining metrics and loss as binary_crossentropy due to our zero's and one's."
      ],
      "metadata": {
        "id": "KRunyUnNFslL"
      }
    },
    {
      "cell_type": "code",
      "source": [
        "#defining a model\n",
        "# model params\n",
        "vocab_size = len(tok.word_index) + 1\n",
        "epoch = 12\n",
        "unit = 32\n",
        "\n",
        "# model = tf.keras.models.Sequential(name='FakeNewsCatcher')\n",
        "# model.add(tf.keras.layers.Embedding(vocab_size, unit, input_length=tweet_count75))\n",
        "# model.add(tf.keras.layers.SimpleRNN(unit, return_sequences=False))\n",
        "# model.add(tf.keras.layers.Dense(1, activation='relu'))\n",
        "\n",
        "model = tf.keras.models.Sequential(name='LapaczFakeNews')\n",
        "# model.add(tf.keras.layers.Embedding(vocab_size, unit, input_length=tweet_count75))  <-- BEZ SENSU, ale co ciekawe, uzyskiwana accuracy przy tym była wyższa jak dla samych tytułów 74/75%\n",
        "model.add(tf.keras.layers.Embedding(vocab_size, unit, input_length=max_length))\n",
        "# model.add(tf.keras.layers.Embedding(vocab_size, unit, input_length=max_length+1))\n",
        "model.add(tf.keras.layers.Bidirectional(tf.keras.layers.SimpleRNN(unit)))\n",
        "model.add(tf.keras.layers.Dense(unit, activation='relu'))\n",
        "model.add(tf.keras.layers.Dense(unit, activation='relu'))\n",
        "model.add(tf.keras.layers.Dense(unit, activation='relu'))\n",
        "model.add(tf.keras.layers.Dense(unit, activation='relu'))\n",
        "model.add(tf.keras.layers.Dense(1, activation='relu'))\n",
        "\n",
        "# compile\n",
        "model.compile(optimizer='rmsprop', loss='binary_crossentropy', metrics=[precision_m,f1_m])\n",
        "\n",
        "# summary\n",
        "model.summary()\n"
      ],
      "metadata": {
        "colab": {
          "base_uri": "https://localhost:8080/"
        },
        "id": "06a4UH8aHuCS",
        "outputId": "34e238df-2175-4600-e5b0-6980c8557528"
      },
      "execution_count": 8,
      "outputs": [
        {
          "output_type": "stream",
          "name": "stdout",
          "text": [
            "Model: \"LapaczFakeNews\"\n",
            "_________________________________________________________________\n",
            " Layer (type)                Output Shape              Param #   \n",
            "=================================================================\n",
            " embedding (Embedding)       (None, 14, 32)            1124224   \n",
            "                                                                 \n",
            " bidirectional (Bidirectiona  (None, 64)               4160      \n",
            " l)                                                              \n",
            "                                                                 \n",
            " dense (Dense)               (None, 32)                2080      \n",
            "                                                                 \n",
            " dense_1 (Dense)             (None, 32)                1056      \n",
            "                                                                 \n",
            " dense_2 (Dense)             (None, 32)                1056      \n",
            "                                                                 \n",
            " dense_3 (Dense)             (None, 32)                1056      \n",
            "                                                                 \n",
            " dense_4 (Dense)             (None, 1)                 33        \n",
            "                                                                 \n",
            "=================================================================\n",
            "Total params: 1,133,665\n",
            "Trainable params: 1,133,665\n",
            "Non-trainable params: 0\n",
            "_________________________________________________________________\n"
          ]
        }
      ]
    },
    {
      "cell_type": "markdown",
      "source": [
        "#Trainig the model\n",
        "I am adding EarlyStopping function with pateince set to 10 (because trial and error method has shown it is the best) then re-run project and then just using fit function.\n"
      ],
      "metadata": {
        "id": "oHoHwzuBGsv9"
      }
    },
    {
      "cell_type": "code",
      "source": [
        "# training params (większe patience tylko pogarsza, tak samo mniejsze)\n",
        "es = tf.keras.callbacks.EarlyStopping(monitor='val_loss', mode='min',verbose=0, patience=10)\n",
        "\n",
        "#  re-runs\n",
        "gc.collect()\n",
        "tf.keras.backend.clear_session()\n",
        "\n",
        "# train model\n",
        "hist = model.fit(x=padded_train,\n",
        "                 y=y_train,\n",
        "                 epochs=epoch,\n",
        "                 shuffle=True,\n",
        "                 validation_data=(padded_test,y_test),\n",
        "                 verbose=0,\n",
        "                 callbacks=[TqdmCallback(verbose=0),es])\n"
      ],
      "metadata": {
        "colab": {
          "base_uri": "https://localhost:8080/",
          "height": 49,
          "referenced_widgets": [
            "8c07a706db5f4cb99ddd0400b065c194",
            "890b9d2b118d49acb5c8c0b8d089e052",
            "76c8725cc94e489c88f7394d7199d937",
            "449d7bf0ff6f427ba06fba59c4dc16e8",
            "a2d51f96e2964dec8f0c1e90c8c02a6b",
            "c1d18e906c244ed58478d2b93a2c600a",
            "1d40e59f8a5b45cd973d8f4247c6ca9e",
            "203317cc05eb454584b98ce9cea99919",
            "28e3536d5987433c86768d0805c50280",
            "fcf7a12b66d34c2eaf416e3fadc02e76",
            "6b06b177789b410db48cea6ef26bc8df"
          ]
        },
        "id": "TL_zx5hrNL_H",
        "outputId": "0de17b3a-000e-412a-a4bd-51ee92fece81"
      },
      "execution_count": 9,
      "outputs": [
        {
          "output_type": "display_data",
          "data": {
            "text/plain": [
              "0epoch [00:00, ?epoch/s]"
            ],
            "application/vnd.jupyter.widget-view+json": {
              "version_major": 2,
              "version_minor": 0,
              "model_id": "8c07a706db5f4cb99ddd0400b065c194"
            }
          },
          "metadata": {}
        }
      ]
    },
    {
      "cell_type": "markdown",
      "source": [
        "#Accuracy of the model"
      ],
      "metadata": {
        "id": "GHM7mGk5HE3r"
      }
    },
    {
      "cell_type": "code",
      "source": [
        "# accuracy\n",
        "# print(hist.history.keys())\n",
        "prec = '{:.2%}'.format(hist.history['precision_m'][-1])\n",
        "f1 = '{:.2%}'.format(hist.history['f1_m'][-1])\n",
        "print(f\"Our model has achieved a precision of {prec} and f1 of {f1} in {hist.epoch[-1]} epoch(s)\")"
      ],
      "metadata": {
        "colab": {
          "base_uri": "https://localhost:8080/"
        },
        "id": "3tHnBokuHuEV",
        "outputId": "a01b32dd-2064-4f82-e728-8758a8ac9258"
      },
      "execution_count": 18,
      "outputs": [
        {
          "output_type": "stream",
          "name": "stdout",
          "text": [
            "Our model has achieved a precision of 98.32% and f1 of 98.61% in 10 epoch(s)\n"
          ]
        }
      ]
    },
    {
      "cell_type": "code",
      "source": [
        "# predictions\n",
        "pred = (model.predict(padded_test) > 0.5).astype('int32')\n",
        "# classification report\n",
        "print(classification_report(y_test, pred))\n",
        "# accuracy score\n",
        "acc_score = '{:.2%}'.format(accuracy_score(y_test, pred))\n",
        "print(f\"\\nAccuracy Score: {acc_score}\")\n"
      ],
      "metadata": {
        "id": "LLQvNK-XVyxU",
        "colab": {
          "base_uri": "https://localhost:8080/"
        },
        "outputId": "3a21fa02-8c55-4454-8df7-d3e9bdca1646"
      },
      "execution_count": 11,
      "outputs": [
        {
          "output_type": "stream",
          "name": "stdout",
          "text": [
            "143/143 [==============================] - 1s 3ms/step\n",
            "              precision    recall  f1-score   support\n",
            "\n",
            "           0       0.62      0.53      0.57      1113\n",
            "           1       0.86      0.90      0.88      3461\n",
            "\n",
            "    accuracy                           0.81      4574\n",
            "   macro avg       0.74      0.71      0.72      4574\n",
            "weighted avg       0.80      0.81      0.80      4574\n",
            "\n",
            "\n",
            "Accuracy Score: 80.80%\n"
          ]
        }
      ]
    }
  ]
}